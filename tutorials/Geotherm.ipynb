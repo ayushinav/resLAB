{
 "cells": [
  {
   "cell_type": "code",
   "execution_count": 1,
   "metadata": {},
   "outputs": [],
   "source": [
    "import numpy as np;\n",
    "import pandas as pd;\n",
    "import matplotlib.pyplot as maps;"
   ]
  },
  {
   "cell_type": "markdown",
   "metadata": {},
   "source": [
    "We consider a 3 layered earth for the calculation of geotherm. The uppermost layer (upper crust) is the heat producing crust while the middle layer (lower crust) has a very low heat production. The procedure for the calculation of geotherm by 1-D conduction heat transfer as suggested by Fowler, 1996 is used.\n",
    "\n",
    "The values were taken from Roy and Rao, 2003 and Roy and Mareschal, 2011 as:\n",
    "* Q1= 40* (10**-3) # surface heat flow rate (or 36)\n",
    "* Q2= 18* (10**-3) # heat flow rate across Moho (our estimates come approx the same)\n",
    "* A1= 2.4* (10**-6) # heat production in upper crust\n",
    "* A2= 0.16* (10**-6) # heat production in lower crust\n",
    "* z2= 39* 1000; # heat producing crust\n",
    "* z2= 39* 1000; # depth to Moho\n",
    "* z3= 200* 1000; # depth to LAB\n",
    "* k= 3, 2.5, 3.5 # thermal conductivity of the upper crust, lower crust, mantle\n",
    "* Ts= 300 K # Temperature at the surface\n",
    "\n",
    "Roy and Mareschal, 2011 report a mantle heat production of 0-0.02  $\\mu$W m-3 which is included in the calculation of geotherm into the mantle.\n",
    "\n",
    "Am= 0.02* (10**-6) # mantle heat production\n",
    "Q2= 18* (10**-3) # heat flow rate across Moho\n",
    "km= # thermal conductivity of Moho\n",
    "Tm= # Temperature of Moho, calculated from our geotherm data\n",
    "\n",
    "Moho temperature belong to the range 285- 410 deg C according to heat flow data."
   ]
  },
  {
   "cell_type": "code",
   "execution_count": 2,
   "metadata": {},
   "outputs": [],
   "source": [
    "def geotherm(Qs, Ts, A, k, z):\n",
    "    \"\"\"\n",
    "    Qs= Surface Heat Flow\n",
    "    Ts= Surface Temperature\n",
    "    A= vector of heat production rate\n",
    "    k= vector of thermal conductivity\n",
    "    \"\"\"\n",
    "    \n",
    "    n= len(z); # number of layers\n",
    "    Q= Qs;\n",
    "    T= Ts;\n",
    "    z_1= 0;\n",
    "    depth= np.array([]);\n",
    "    gtherm= np.array([]);\n",
    "    for i in range(0, n):\n",
    "        print(Q*1000)\n",
    "        Z= np.arange(z_1, z[i]+1, 1);\n",
    "        \n",
    "        temp= -A[i]/2/k[i]* Z*Z+ (Q+ A[i]*z_1)/k[i]* Z + (T- Q/k[i]*z_1- A[i]/2/k[i]* z_1**2);\n",
    "        gtherm= np.hstack((gtherm, temp));\n",
    "        depth= np.hstack((depth, Z));\n",
    "        Q= Q+ A[i]*(z_1- z[i]);\n",
    "        T= temp[-1]; \n",
    "        z_1= z[i];\n",
    "        print(Q, \"\\t\", temp[-1])\n",
    "    \n",
    "    print(\"Temperature at lowermost layer is %d K\" %(T));\n",
    "    print(\"Heat flow estimated at lowermost interface is %1.5f Wm-2 K-1\" %(Q));\n",
    "    return [gtherm, depth];\n"
   ]
  },
  {
   "cell_type": "code",
   "execution_count": 18,
   "metadata": {},
   "outputs": [
    {
     "name": "stdout",
     "output_type": "stream",
     "text": [
      "40.0\n",
      "0.025 \t 408.33333333333337\n",
      "25.0\n",
      "0.017750000000000002 \t 656.2833333333333\n",
      "17.750000000000004\n",
      "0.014730000000000002 \t 1356.9233333333334\n",
      "Temperature at lowermost layer is 1356 K\n",
      "Heat flow estimated at lowermost interface is 0.01473 Wm-2 K-1\n"
     ]
    }
   ],
   "source": [
    "Qs= 40* (10**-3);\n",
    "Ts= 300; \n",
    "A= np.array([1.5, 0.25, 0.02])* (10**-6);\n",
    "k= np.array([3.0, 2.5, 3.5]);\n",
    "z= np.array([10, 39, 190])* 1000;\n",
    "\n",
    "gtherm, data_z= geotherm(Qs, Ts, A, k, z);"
   ]
  },
  {
   "cell_type": "code",
   "execution_count": 19,
   "metadata": {},
   "outputs": [],
   "source": [
    "gtherm= np.interp(np.arange(0, z[-1]/1000), data_z/1000, gtherm)\n",
    "data_z= np.arange(0, z[-1]/1000);"
   ]
  },
  {
   "cell_type": "code",
   "execution_count": 20,
   "metadata": {},
   "outputs": [],
   "source": [
    "def plot_geotherm(ax, z, data_z, T):\n",
    "    \"\"\"\n",
    "    z= vector of [heat producing crust, Moho depth, depth to LAB]\n",
    "    data_z= depth vector in km\n",
    "    T= Temperature in K\n",
    "    \"\"\"\n",
    "    ax.plot(T, data_z, label= \"Geotherm\");\n",
    "    ax.set_ylim([z[-1]/1000+ 50, 0]);\n",
    "    #ax.set_xlim([Ts, Ts+3000])\n",
    "    ax.grid('on');\n",
    "    moho= z[1]/1000*np.ones_like(T);\n",
    "    LAB= z[2]/1000*np.ones_like(T);\n",
    "    range_rho= np.logspace(1, 5, len(data_z))\n",
    "    ax.fill_between(T, moho, 0*LAB, color= 'green', alpha= 0.3, label= 'crust');\n",
    "    ax.fill_between(T, moho, LAB, color= 'yellow', alpha= 0.25, label= 'Lithospheric mantle');\n",
    "    ax.fill_between(T, LAB, 300*LAB/LAB, color= 'orange', alpha= 0.35, label= 'Aesthenosphere');\n",
    "    ax.legend();\n",
    "    ax.set_ylabel(\"Depth (km)\", fontsize= 14);\n",
    "    ax.set_xlabel(\"Temperature (K)\", fontsize= 14);\n",
    "    return ax;"
   ]
  },
  {
   "cell_type": "code",
   "execution_count": 21,
   "metadata": {},
   "outputs": [
    {
     "data": {
      "image/png": "[encoded data removed]",
      "text/plain": [
       "<Figure size 504x720 with 1 Axes>"
      ]
     },
     "metadata": {
      "needs_background": "light"
     },
     "output_type": "display_data"
    }
   ],
   "source": [
    "#fig= maps.Figure(figsize= (7,10));\n",
    "#ax= fig.add_subplot(111);\n",
    "fig, ax= maps.subplots(1, figsize= (7,10));\n",
    "ax= plot_geotherm(ax= ax, z= z, data_z= data_z, T= gtherm);\n",
    "fig.savefig(\"C:/Users/hp/Desktop/geotherm.jpg\")"
   ]
  },
  {
   "cell_type": "code",
   "execution_count": null,
   "metadata": {},
   "outputs": [],
   "source": []
  }
 ],
 "metadata": {
  "kernelspec": {
   "display_name": "Python 3",
   "language": "python",
   "name": "python3"
  },
  "language_info": {
   "codemirror_mode": {
    "name": "ipython",
    "version": 3
   },
   "file_extension": ".py",
   "mimetype": "text/x-python",
   "name": "python",
   "nbconvert_exporter": "python",
   "pygments_lexer": "ipython3",
   "version": "3.7.3"
  }
 },
 "nbformat": 4,
 "nbformat_minor": 2
}
